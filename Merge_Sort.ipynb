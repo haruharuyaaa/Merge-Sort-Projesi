{
  "nbformat": 4,
  "nbformat_minor": 0,
  "metadata": {
    "colab": {
      "provenance": []
    },
    "kernelspec": {
      "name": "python3",
      "display_name": "Python 3"
    },
    "language_info": {
      "name": "python"
    }
  },
  "cells": [
    {
      "cell_type": "markdown",
      "source": [
        "[16,21,11,8,12,22] -> Merge Sort\n",
        "\n",
        "Yukarıdaki dizinin sort türüne göre aşamalarını yazınız.\n",
        ">[16,21,11] -- [8,12,22]\n",
        "\n",
        ">[16] [21,11]--[8,12] [22]\n",
        "\n",
        ">[16] [21] [11] -- [8] [12] [22]\n",
        "\n",
        ">[16] [11,21] -- [8,12] [22]\n",
        "\n",
        ">[11,16,21] -- [8,12,22]"
      ],
      "metadata": {
        "id": "foj5k0pe_7Fl"
      }
    },
    {
      "cell_type": "markdown",
      "source": [
        "Big-O gösterimini yazınız.\n",
        "\n",
        "> O(nlogn)"
      ],
      "metadata": {
        "id": "JwfG7gzrBwSt"
      }
    }
  ]
}